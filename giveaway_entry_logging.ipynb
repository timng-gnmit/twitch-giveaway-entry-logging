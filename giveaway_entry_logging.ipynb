{
 "cells": [
  {
   "cell_type": "markdown",
   "id": "41da2eca",
   "metadata": {},
   "source": [
    "# Giveaway Entry Twitch App\n",
    "Keeps track of when people redeem the `Giveaway Entry` channel point redeem"
   ]
  },
  {
   "cell_type": "code",
   "execution_count": 1,
   "id": "becd9f70",
   "metadata": {},
   "outputs": [],
   "source": [
    "# for formatting\n",
    "import json\n",
    "\n",
    "# http requests\n",
    "import requests\n",
    "\n",
    "# generating secret keys\n",
    "import secrets\n",
    "\n",
    "# for improved parsing\n",
    "from emoji import demojize\n",
    "\n",
    "# load bot authorization data\n",
    "from auth_data import bot_access_token, bot_client_id, user_access_token\n",
    "'''\n",
    "includes:\n",
    "bot_access_token <- bot oAuth code\n",
    "bot_client_id <- client id\n",
    "user_access_token <- user access token, currently from Twitch CLI - https://dev.twitch.tv/docs/cli/\n",
    "                     currently uses scopes\n",
    "'''\n",
    "\n",
    "# load username to channel id converter\n",
    "from user2channelid import user2channelid\n",
    "'''\n",
    "usage:\n",
    "    channel_ids = user2channelid(users_list, auth_token, client_id)\n",
    "        input:\n",
    "            user_list <- list of strings with Twitch usernames\n",
    "            auth_token <- app auth token from a POST request from https://id.twitch.tv/oauth2/token\n",
    "            client_id <- unique app client id\n",
    "        \n",
    "        output:\n",
    "            channel_ids <- dict with {username : channel_id} key-value pairs\n",
    "'''\n",
    "\n",
    "import asyncio\n",
    "# we use websockets because they have a nice python implementation, but webhook and conduits supposedly work with EventSub\n",
    "from websockets.client import connect"
   ]
  },
  {
   "cell_type": "markdown",
   "id": "a0e6a811",
   "metadata": {},
   "source": [
    "We are using EventSub with Websockets to connect to the Twitch API. To do this, we need the EventSub URI."
   ]
  },
  {
   "cell_type": "code",
   "execution_count": 2,
   "id": "be1325b7",
   "metadata": {},
   "outputs": [],
   "source": [
    "# set the uri for eventsub\n",
    "eventsub_uri = \"wss://eventsub.wss.twitch.tv/ws\""
   ]
  },
  {
   "cell_type": "markdown",
   "id": "ab1c1b98",
   "metadata": {
    "scrolled": true
   },
   "source": [
    "Use `user2channelid` to get channel ids of the user and streamer"
   ]
  },
  {
   "cell_type": "code",
   "execution_count": 3,
   "id": "a99efae7",
   "metadata": {},
   "outputs": [],
   "source": [
    "# load the usernames we want to use\n",
    "from users_info import streamer, user\n",
    "\n",
    "# get the ids\n",
    "users_list = [streamer, user]\n",
    "channel_ids = user2channelid(users_list, bot_access_token, bot_client_id)\n",
    "\n",
    "# save them to variables\n",
    "channel_id = channel_ids[streamer]\n",
    "user_id = channel_ids[user]\n",
    "\n",
    "# print output\n",
    "# print(json.dumps(channel_ids, indent=3))\n",
    "\n",
    "# pubsub topic subscriptions\n",
    "# topics = [f\"whispers.{user_id}\"]\n",
    "# topics = [f\"channel-points-channel-v1.{channel_id}\"]"
   ]
  },
  {
   "cell_type": "code",
   "execution_count": null,
   "id": "03d28b2a",
   "metadata": {
    "scrolled": true
   },
   "outputs": [
    {
     "name": "stdout",
     "output_type": "stream",
     "text": [
      "read chat status: enabled on 2024-10-22 at 07:10:46 UTC\n"
     ]
    }
   ],
   "source": [
    "# currently unsure how to send a reconnect message to the server automatically\n",
    "# using eventsub with websockets\n",
    "\n",
    "all_chats = True\n",
    "async def main():\n",
    "    global eventsub_uri\n",
    "    async with connect(eventsub_uri) as websockets:\n",
    "        # get the welcome message and extract the session id\n",
    "        welcome = await websockets.recv()\n",
    "        welcome = json.loads(welcome)\n",
    "        session_id = welcome[\"payload\"][\"session\"][\"id\"]\n",
    "        \n",
    "        # subscribe to events with a POST request\n",
    "        # https://dev.twitch.tv/docs/api/reference/#create-eventsub-subscription\n",
    "        # says websockets requires a user access token - will fail if you use an app access token\n",
    "        \n",
    "        # subscribe to chat message event\n",
    "        post_url = 'https://api.twitch.tv/helix/eventsub/subscriptions'\n",
    "        post_headers = {\"Authorization\": \"Bearer \" + user_access_token,\n",
    "                        \"Client-Id\" : bot_client_id,\n",
    "                        \"Content-Type\" : \"application/json\"}\n",
    "        # currently only able to subscribe to channel.chat.message because of the scopes we use.\n",
    "        message_post_data = {\n",
    "            \"type\" : \"channel.chat.message\",\n",
    "            \"version\" : \"1\",\n",
    "            \"condition\" : {\n",
    "                \"user_id\" : str(user_id),\n",
    "                \"broadcaster_user_id\" : str(channel_id)\n",
    "            },\n",
    "            \"transport\" : {\n",
    "                \"method\" : \"websocket\",\n",
    "                \"session_id\" : session_id\n",
    "            }\n",
    "        }\n",
    "        message_req_post = requests.post(post_url, headers=post_headers, data=json.dumps(message_post_data))\n",
    "        message_req_post = json.loads(message_req_post.text)\n",
    "        if 'data' in message_req_post.keys():\n",
    "            connect_date = message_req_post['data'][0]['created_at'][0:10]\n",
    "            connect_time = message_req_post['data'][0]['created_at'][11:19]\n",
    "            \n",
    "            print(f\"read chat status: {message_req_post['data'][0]['status']} on {connect_date} at {connect_time} UTC\")\n",
    "        else:\n",
    "            print(f\"read chat status: {message_req_post['status']}\")\n",
    "        # connect time\n",
    "        \n",
    "        # should be able to receive events now\n",
    "        while True:\n",
    "            # with EventSub, do not send any messages to the server or you will get a session disconnect\n",
    "            # source: https://dev.twitch.tv/docs/eventsub/handling-websocket-events/\n",
    "            # note that Pong messages are handled automatically by Python websockets\n",
    "            result = await websockets.recv()\n",
    "            result = json.loads(result)            \n",
    "\n",
    "            if result['metadata']['message_type'] != 'session_keepalive':\n",
    "                # make the json pretty for debugging\n",
    "                res_nice = json.dumps(result, indent=3)\n",
    "                try:\n",
    "                    sub_type = result['metadata']['subscription_type']\n",
    "                    if sub_type == 'channel.chat.message':\n",
    "                        chat_date = result['metadata']['message_timestamp'][:10]\n",
    "                        chat_time = result['metadata']['message_timestamp'][11:19]\n",
    "                        chatter_user_name = result['payload']['event']['chatter_user_name']\n",
    "                        chat_message = demojize(result['payload']['event']['message']['text'])\n",
    "                        \n",
    "                        if all_chats:\n",
    "                            print(f\"{chat_date} {chat_time} UTC | {chatter_user_name}: {chat_message}\")\n",
    "                        \n",
    "                        # This is a workaround for now:\n",
    "                        # When someone redeems \"Giveaway Entry,\" \n",
    "                        if chatter_user_name == streamer and chat_message.startswith(\"Thank you for entering the monthly giveaway,\"):\n",
    "                            # the redeemer username comes after those words and a space but ends before an exclamation point\n",
    "                            redeemer = chat_message[45:-2]\n",
    "                            # print to stdout\n",
    "                            if all_chats:\n",
    "                                print(\"======================================\")\n",
    "                            print(f\"{redeemer} redeemed monthly giveaway\")\n",
    "                            if all_chats:\n",
    "                                print(\"======================================\")\n",
    "                                \n",
    "                            # log it\n",
    "                            # date {tab} time {tab} redeemer\n",
    "                            # redeems.txt could also easily be a .csv, but either way it's getting imported into a google sheet for me\n",
    "                            text_to_write = f\"{chat_date}\\t{chat_time}\\t{redeemer}\\n\"\n",
    "                            with open('redeems.txt', 'a') as redeem_file:\n",
    "                                redeem_file.write(text_to_write)\n",
    "                    else:\n",
    "                        # print out the json response\n",
    "                        print(res_nice)\n",
    "                except:\n",
    "                    print(res_nice)\n",
    "                    if result['metadata']['message_type']==\"session_reconnect\":\n",
    "                        with open('redeems.txt', 'a') as redeem_file:\n",
    "                            redeem_file.write(\"reconnecting\\n\")\n",
    "                        reconnect_url = result['payload']['reconnect_url']\n",
    "                        eventsub_uri = reconnect_url\n",
    "                        print(\"======================================\")\n",
    "                        print(\"RECONNECTING\")\n",
    "                        print(\"======================================\")\n",
    "                        break\n",
    "        main()\n",
    "await main()"
   ]
  },
  {
   "cell_type": "code",
   "execution_count": null,
   "id": "d26de65d",
   "metadata": {},
   "outputs": [],
   "source": []
  }
 ],
 "metadata": {
  "kernelspec": {
   "display_name": "Python 3 (ipykernel)",
   "language": "python",
   "name": "python3"
  },
  "language_info": {
   "codemirror_mode": {
    "name": "ipython",
    "version": 3
   },
   "file_extension": ".py",
   "mimetype": "text/x-python",
   "name": "python",
   "nbconvert_exporter": "python",
   "pygments_lexer": "ipython3",
   "version": "3.9.7"
  }
 },
 "nbformat": 4,
 "nbformat_minor": 5
}
